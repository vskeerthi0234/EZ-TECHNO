{
 "cells": [
  {
   "cell_type": "markdown",
   "id": "e630d87c-b673-4776-aadf-6f897d6ed736",
   "metadata": {},
   "source": [
    "lists:\n",
    "append #takes nly one argument(value based)\n",
    "remove #takes nly one argument(value based)\n",
    "insert #takes two one argument(position based) (pos,value)\n",
    "pop #takes nly one argument(position based)\n",
    "sort #takes no arguments\n",
    "reverse #takes no arguments"
   ]
  },
  {
   "cell_type": "code",
   "execution_count": 12,
   "id": "9bfeb82a-c26c-4028-8f86-ebac0e41e5a3",
   "metadata": {},
   "outputs": [
    {
     "name": "stdout",
     "output_type": "stream",
     "text": [
      "[5, 6, 7, 8, 3, 7, 2, 1, 'a', 'b', 'c', 'd']\n"
     ]
    }
   ],
   "source": [
    "a=[5,6,7,8,3,7,2,1]\n",
    "b=['a','b','c','d']\n",
    "a.extend(b)\n",
    "#cn=l.count(3)\n",
    "print(a)"
   ]
  },
  {
   "cell_type": "markdown",
   "id": "cb0cd6df-0c84-4d9b-bc5e-4ba3333247bc",
   "metadata": {},
   "source": [
    "tuple:\n",
    "is immutable \n",
    "we cant append,add or remove we can just access the elements of the tuple"
   ]
  },
  {
   "cell_type": "code",
   "execution_count": 41,
   "id": "0310e588-1a7e-40fe-bf95-8be7b4e0b3b0",
   "metadata": {},
   "outputs": [
    {
     "name": "stdout",
     "output_type": "stream",
     "text": [
      "(1, 'abc', 'hi', 6, 7, 8)\n"
     ]
    }
   ],
   "source": [
    "t=(1,\"abc\",'hi',6,7,8)\n",
    "print(t)"
   ]
  },
  {
   "cell_type": "markdown",
   "id": "67334f5d-0648-4754-bb1e-8edbe461794b",
   "metadata": {},
   "source": [
    "class and objects"
   ]
  },
  {
   "cell_type": "code",
   "execution_count": 3,
   "id": "4b097e00-963e-450b-b3ca-d72a87a2b1b3",
   "metadata": {},
   "outputs": [
    {
     "name": "stdout",
     "output_type": "stream",
     "text": [
      "keerthi 20 female\n"
     ]
    }
   ],
   "source": [
    "class student:\n",
    "    def __init__(self,nm,ag,gn):\n",
    "        self.name=nm\n",
    "        self.age=ag\n",
    "        self.gn=gn\n",
    "st=student(\"keerthi\",20,\"female\")\n",
    "print(st.name,st.age,st.gn)\n"
   ]
  },
  {
   "cell_type": "code",
   "execution_count": 11,
   "id": "667f6b40-7377-4775-95d2-0df2cb62a583",
   "metadata": {},
   "outputs": [
    {
     "name": "stdin",
     "output_type": "stream",
     "text": [
      "enter your name harini\n",
      "enter your age 20\n",
      "enter gender F\n"
     ]
    },
    {
     "name": "stdout",
     "output_type": "stream",
     "text": [
      "harini 20 F\n"
     ]
    }
   ],
   "source": [
    "class student:\n",
    "    def __init__(self):\n",
    "        self.name=None\n",
    "        self.age=None\n",
    "        self.gn=None\n",
    "st=student()\n",
    "st.name=input(\"enter your name\")\n",
    "st.age=int(input(\"enter your age\"))\n",
    "st.gn=input(\"enter gender\")\n",
    "print(st.name,st.age,st.gn)\n"
   ]
  },
  {
   "cell_type": "code",
   "execution_count": 10,
   "id": "5df51413-46a3-4e9e-a0ae-ae0263b4de40",
   "metadata": {},
   "outputs": [
    {
     "name": "stdin",
     "output_type": "stream",
     "text": [
      "enter your name navya\n",
      "enter your age 20\n",
      "enter gender F\n"
     ]
    },
    {
     "name": "stdout",
     "output_type": "stream",
     "text": [
      "navya 21 F\n"
     ]
    }
   ],
   "source": [
    "class student:\n",
    "    def __init__(self,nm,age,gn):\n",
    "        self.name=nm\n",
    "        self.age=age\n",
    "        self.gn=gn\n",
    "\n",
    "a=input(\"enter your name\")\n",
    "b=int(input(\"enter your age\"))\n",
    "c=input(\"enter gender\")\n",
    "b=21\n",
    "st=student(a,b,c)\n",
    "print(st.name,st.age,st.gn)\n",
    "\n"
   ]
  },
  {
   "cell_type": "code",
   "execution_count": 20,
   "id": "bed12287-89af-4b4f-aadb-a87ff7bc1f8d",
   "metadata": {},
   "outputs": [
    {
     "name": "stdout",
     "output_type": "stream",
     "text": [
      "this is function:1\n",
      "<__main__.A object at 0x000001EF71336B90>\n"
     ]
    }
   ],
   "source": [
    "class A:\n",
    "    def func1(self):\n",
    "        print(\"this is function:1\")\n",
    "class B(A):\n",
    "    def func2(self):\n",
    "        print(\"this is function:2\")\n",
    "obj=A()\n",
    "obj.func1()\n",
    "print(obj)\n",
    "    "
   ]
  },
  {
   "cell_type": "code",
   "execution_count": 23,
   "id": "882c6b22-9794-4f99-9a6f-343a111f9d69",
   "metadata": {},
   "outputs": [
    {
     "name": "stdout",
     "output_type": "stream",
     "text": [
      "3\n"
     ]
    }
   ],
   "source": [
    "class A:\n",
    "    def __init__(self,a,b):\n",
    "        self.a=a\n",
    "        self.b=b\n",
    "    def func2(self):\n",
    "        print(self.b)\n",
    "obj=A(2,3)\n",
    "obj.func2()"
   ]
  },
  {
   "cell_type": "code",
   "execution_count": 36,
   "id": "54d408af-dd5f-4dc6-8059-25a542c5b43c",
   "metadata": {},
   "outputs": [
    {
     "name": "stdout",
     "output_type": "stream",
     "text": [
      "2\n",
      "5\n"
     ]
    }
   ],
   "source": [
    "#inheritance\n",
    "\n",
    "class A:\n",
    "    def __init__(self,a,b):\n",
    "        self.A=a\n",
    "        self.__B=b\n",
    "    def printB(self):\n",
    "        print(self.__B)\n",
    "ob1=A(2,5)\n",
    "#ob1.printB()\n",
    "print(ob1.A)\n",
    "ob1.printB()\n",
    "    "
   ]
  },
  {
   "cell_type": "markdown",
   "id": "73741631-132d-42bc-80ac-7459743a6e97",
   "metadata": {},
   "source": [
    "create a student class that holds details of students\n",
    "name,usn and marks in 5 sub,per n grade\n",
    "\n",
    "create 5 std obj and get the data for name,usn and marks\n",
    "cal percentage and grade and store it to the class obj"
   ]
  },
  {
   "cell_type": "code",
   "execution_count": 78,
   "id": "fe34cdc7-3f75-40e3-a893-1e76ec10623a",
   "metadata": {},
   "outputs": [
    {
     "name": "stdin",
     "output_type": "stream",
     "text": [
      "enter your name kk\n",
      "enter your usn 99\n",
      "5 sub marks 90 90 89 87 89\n"
     ]
    },
    {
     "name": "stdout",
     "output_type": "stream",
     "text": [
      "name: kk\n",
      "usn: 99\n",
      "marks: [90, 90, 89, 87, 89]\n",
      "89.0\n",
      "Grade B\n"
     ]
    }
   ],
   "source": [
    "class Student:\n",
    "    def __init__(self,name,usn,marks):\n",
    "        self.nm=name\n",
    "        self.usn=usn\n",
    "        self.marks=marks\n",
    "        self.percentage=None\n",
    "        self.grade=None\n",
    "    def details(self):\n",
    "        print(\"name:\",self.nm)\n",
    "        print(\"usn:\",self.usn)\n",
    "        print(\"marks:\",self.marks)\n",
    "        \n",
    "    def per(self):\n",
    "        self.percentage=0\n",
    "        for i in self.marks:\n",
    "            self.percentage=self.percentage+i\n",
    "        self.percentage = self.percentage/5\n",
    "        print(self.percentage)   \n",
    "            \n",
    "    def Grade(self):\n",
    "        if(self.percentage>90):\n",
    "            print(\" Grade A\")   \n",
    "        elif (self.percentage>75) and (self.percentage <90):\n",
    "            print(\"Grade B\")\n",
    "        elif(self.percentage>60) and (self.percentage <75):\n",
    "            print(\"Grade C\")\n",
    "        else:\n",
    "            print(\"Grade D\")\n",
    "    def convert_list(self):\n",
    "        st_list=[self.nm,self.usn,self.marks,self.percentage,self.Grade]\n",
    "        return st_list\n",
    "a=input(\"enter your name\")\n",
    "b=int(input(\"enter your usn\"))\n",
    "c = list(map(int,input(\"5 sub marks\").split(\" \")))\n",
    "obj1=Student(a,b,c)\n",
    "obj1.details()\n",
    "obj1.per()\n",
    "obj1.Grade()"
   ]
  },
  {
   "cell_type": "code",
   "execution_count": 79,
   "id": "55ff02ca-c1e8-4515-98c3-7d81f815ecfc",
   "metadata": {},
   "outputs": [],
   "source": [
    "with open(\"student.txt\",'wb')as File:\n",
    "    L=obj1.convert_list()\n",
    "    data=f\"{L[0]},{L[1]},{L[2]},{L[3]},{L[4]}\\n\"\n",
    "    File.write(data.encode())\n",
    "    File.close()"
   ]
  },
  {
   "cell_type": "code",
   "execution_count": 47,
   "id": "45f6aadf-3c1d-4cc9-99d6-80891970bf3e",
   "metadata": {},
   "outputs": [
    {
     "name": "stdin",
     "output_type": "stream",
     "text": [
      "5 sub marks 90 89 78 76 78\n"
     ]
    },
    {
     "name": "stdout",
     "output_type": "stream",
     "text": [
      "[90, 89, 78, 76, 78]\n"
     ]
    }
   ],
   "source": [
    "'''class tudent:\n",
    "    def __init__(self,U,N,M):\n",
    "        self.usn=None\n",
    "        self.name=None\n",
    "        self.marks=[]\n",
    "        self.percentage=None\n",
    "        self.grade=None\n",
    "    def std_Input(self):\n",
    "        print(\"enter your name\")\n",
    "        print(\"enter your usn\")\n",
    "        for i in range(0,5):\n",
    "            marks=input(f\"enter your marks in sub[1+1]:\")\n",
    "            print(\"marks:\",self.marks)\n",
    "    def cal_percentage(self):\n",
    "        self.percentage=0\n",
    "        for i in self.marks:\n",
    "            self.percentage=((self.percentage+marks[i])/500)*100\n",
    "            print(self.percentage)   \n",
    "    def grade(self):\n",
    "        if self.percentage>90:\n",
    "            self.grade=\"A\" \n",
    "        if(self.percentage>75) and (self.percentage <90):\n",
    "            self.grade=\"B\"\n",
    "        elif(self.percentage>75) and (self.percentage <90):\n",
    "            self.grade=\"C\"\n",
    "        elif(self.percentage>75) and (self.percentage <90):\n",
    "            self.grade=\"D\"\n",
    "        else:\n",
    "            print(\"invalid\")\n",
    "   \n",
    "        \n",
    "            \n",
    "a=input(\"enter your name\")\n",
    "b=int(input(\"enter your usn\"))\n",
    "c = list(map(int,input(\"5 sub marks\").split(\" \")))\n",
    "obj1=Student(a,b,c)\n",
    "obj1.details()\n",
    "obj1.grade()\n",
    "obj1.per()\n",
    "'''\n",
    "\n",
    "    \n",
    "\n",
    "    \n"
   ]
  },
  {
   "cell_type": "code",
   "execution_count": 64,
   "id": "e1044b96-b258-419d-ac85-6af77337b812",
   "metadata": {},
   "outputs": [
    {
     "name": "stdin",
     "output_type": "stream",
     "text": [
      "enter the number of students 2\n",
      "enter the name of student : abcd\n",
      "enter the usn of the sudent:  111\n",
      "enter the marks of the student saparated by space: 90 99 89 89 88\n"
     ]
    },
    
